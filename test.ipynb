{
 "cells": [
  {
   "cell_type": "code",
   "execution_count": 79,
   "metadata": {},
   "outputs": [],
   "source": [
    "import numpy as np\n",
    "import pandas as pd\n",
    "import matplotlib.pyplot as plt\n",
    "from sklearn import linear_model\n",
    "from sklearn.metrics import r2_score\n",
    "import math"
   ]
  },
  {
   "cell_type": "code",
   "execution_count": 76,
   "metadata": {},
   "outputs": [
    {
     "name": "stdout",
     "output_type": "stream",
     "text": [
      "51326\n"
     ]
    }
   ],
   "source": [
    "# Get data\n",
    "df = pd.read_csv(\"Data Processing.csv\",sep=';')\n",
    "\n",
    "# Drop row if A OR B is NAN\n",
    "df = df.drop(df[df.A.isna()].index)\n",
    "df = df.drop(df[df.B.isna()].index)\n",
    "\n",
    "# Clean non numeric charaters\n",
    "for c in df:\n",
    "    if df[c].dtypes != 'float64':\n",
    "        df[c] = pd.to_numeric(df[c].astype(str).str.replace('[^.0-9]+', ''))\n",
    "\n",
    "# Drop if column A + B >= 9.5\n",
    "df = df.drop(df[df.A + df.B >= 9.5].index)"
   ]
  },
  {
   "cell_type": "code",
   "execution_count": 77,
   "metadata": {
    "scrolled": false
   },
   "outputs": [
    {
     "name": "stdout",
     "output_type": "stream",
     "text": [
      "There are 40800 rows that satisfies the 3 conditions.\n"
     ]
    }
   ],
   "source": [
    "print(\"There are %s rows that satisfies the 3 conditions.\" % (len(df)))"
   ]
  },
  {
   "cell_type": "code",
   "execution_count": 80,
   "metadata": {},
   "outputs": [
    {
     "name": "stderr",
     "output_type": "stream",
     "text": [
      "/Library/Frameworks/Python.framework/Versions/3.6/lib/python3.6/site-packages/ipykernel_launcher.py:3: FutureWarning: reshape is deprecated and will raise in a subsequent release. Please use .values.reshape(...) instead\n",
      "  This is separate from the ipykernel package so we can avoid doing imports until\n",
      "/Library/Frameworks/Python.framework/Versions/3.6/lib/python3.6/site-packages/ipykernel_launcher.py:4: FutureWarning: reshape is deprecated and will raise in a subsequent release. Please use .values.reshape(...) instead\n",
      "  after removing the cwd from sys.path.\n",
      "/Library/Frameworks/Python.framework/Versions/3.6/lib/python3.6/site-packages/ipykernel_launcher.py:6: FutureWarning: reshape is deprecated and will raise in a subsequent release. Please use .values.reshape(...) instead\n",
      "  \n",
      "/Library/Frameworks/Python.framework/Versions/3.6/lib/python3.6/site-packages/ipykernel_launcher.py:7: FutureWarning: reshape is deprecated and will raise in a subsequent release. Please use .values.reshape(...) instead\n",
      "  import sys\n"
     ]
    },
    {
     "data": {
      "image/png": "[encoded data removed]",
      "text/plain": [
       "<matplotlib.figure.Figure at 0x117cba198>"
      ]
     },
     "metadata": {},
     "output_type": "display_data"
    },
    {
     "name": "stdout",
     "output_type": "stream",
     "text": [
      "Pearson R score: 0.97\n"
     ]
    }
   ],
   "source": [
    "# Make regression\n",
    "model = linear_model.LinearRegression()\n",
    "model.fit(df.X.reshape(-1, 1), df.Y.reshape(-1, 1))\n",
    "model_preds = model.predict(df.X.reshape(-1, 1))\n",
    "\n",
    "plt.scatter(df.X.reshape(-1, 1), df.Y.reshape(-1, 1),  color='blue')\n",
    "plt.plot(df.X.reshape(-1, 1), model_preds, color='red', linewidth=3)\n",
    "plt.title(\"Regression of X vs Y\")\n",
    "plt.xticks(())\n",
    "plt.yticks(())\n",
    "\n",
    "plt.show()\n",
    "\n",
    "print('Pearson R score: %.2f' % math.sqrt(r2_score(df.Y, model_preds)))\n",
    "print('Variance score: %.2f' % math.sqrt(r2_score(df.Y, model_preds)))"
   ]
  },
  {
   "cell_type": "code",
   "execution_count": null,
   "metadata": {},
   "outputs": [],
   "source": []
  }
 ],
 "metadata": {
  "kernelspec": {
   "display_name": "Python 3",
   "language": "python",
   "name": "python3"
  },
  "language_info": {
   "codemirror_mode": {
    "name": "ipython",
    "version": 3
   },
   "file_extension": ".py",
   "mimetype": "text/x-python",
   "name": "python",
   "nbconvert_exporter": "python",
   "pygments_lexer": "ipython3",
   "version": "3.6.2"
  }
 },
 "nbformat": 4,
 "nbformat_minor": 2
}
