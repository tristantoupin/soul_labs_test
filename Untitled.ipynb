{
 "cells": [
  {
   "cell_type": "code",
   "execution_count": 16,
   "metadata": {},
   "outputs": [],
   "source": [
    "import numpy as np\n",
    "import pandas as pd"
   ]
  },
  {
   "cell_type": "code",
   "execution_count": 48,
   "metadata": {},
   "outputs": [],
   "source": [
    "df = pd.read_csv(\"Data Processing.csv\",sep=';')\n",
    "\n",
    "# droprow if A OR B is NAN\n",
    "df = df.drop(df[df.A.isna()].index)\n",
    "df = df.drop(df[df.B.isna()].index)\n",
    "\n",
    "# clean non numeric charaters\n",
    "for c in df:\n",
    "    if df[c].dtypes != 'float64':\n",
    "        df[c] = pd.to_numeric(df[c].astype(str).str.replace('[^.0-9]+', ''))\n",
    "\n",
    "# drop if column A + B >= 9.5\n",
    "df = df.drop(df[df.A + df.B >= 9.5].index)"
   ]
  },
  {
   "cell_type": "code",
   "execution_count": 49,
   "metadata": {
    "scrolled": false
   },
   "outputs": [
    {
     "name": "stdout",
     "output_type": "stream",
     "text": [
      "          A         B         X          Y\n",
      "0  1.830367  3.073593  2.963485 -16.613920\n",
      "1  4.180315  4.170847  2.191771 -10.434477\n",
      "2  1.107262  4.886586  4.863874 -24.106740\n",
      "3  3.583937  3.461854  2.532515 -13.364911\n",
      "4  1.012182  1.370089  2.318128  -8.819244\n",
      "41000\n",
      "40800\n"
     ]
    }
   ],
   "source": [
    "print(df.head())\n",
    "\n",
    "\n"
   ]
  },
  {
   "cell_type": "code",
   "execution_count": null,
   "metadata": {},
   "outputs": [],
   "source": []
  },
  {
   "cell_type": "code",
   "execution_count": null,
   "metadata": {},
   "outputs": [],
   "source": []
  }
 ],
 "metadata": {
  "kernelspec": {
   "display_name": "Python 3",
   "language": "python",
   "name": "python3"
  },
  "language_info": {
   "codemirror_mode": {
    "name": "ipython",
    "version": 3
   },
   "file_extension": ".py",
   "mimetype": "text/x-python",
   "name": "python",
   "nbconvert_exporter": "python",
   "pygments_lexer": "ipython3",
   "version": "3.6.2"
  }
 },
 "nbformat": 4,
 "nbformat_minor": 2
}
